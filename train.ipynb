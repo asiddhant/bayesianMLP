{
 "cells": [
  {
   "cell_type": "markdown",
   "metadata": {},
   "source": [
    "# Bayesian MLP vs DropOut MLP"
   ]
  },
  {
   "cell_type": "code",
   "execution_count": 1,
   "metadata": {},
   "outputs": [],
   "source": [
    "from sklearn.datasets import fetch_mldata\n",
    "import numpy as np\n",
    "np.random.seed(0)\n",
    "import torch\n",
    "torch.manual_seed(0)\n",
    "import torch.nn as nn\n",
    "from torch.autograd import Variable\n",
    "from sklearn.model_selection import train_test_split\n",
    "from sklearn import preprocessing\n",
    "from mlp import MLP, BayesMLP\n",
    "from utils import *"
   ]
  },
  {
   "cell_type": "code",
   "execution_count": 2,
   "metadata": {},
   "outputs": [],
   "source": [
    "mnist = fetch_mldata('MNIST original')\n",
    "N = 10000\n",
    "\n",
    "data = np.float32(mnist.data[:]) / 255.\n",
    "idx = np.random.choice(data.shape[0], N)\n",
    "data = data[idx]\n",
    "target = np.int32(mnist.target[idx]).reshape(N, 1)"
   ]
  },
  {
   "cell_type": "code",
   "execution_count": 3,
   "metadata": {},
   "outputs": [],
   "source": [
    "train_idx, test_idx = train_test_split(np.array(range(N)), test_size=0.05)\n",
    "train_data, test_data = data[train_idx], data[test_idx]\n",
    "train_target, test_target = target[train_idx], target[test_idx]"
   ]
  },
  {
   "cell_type": "code",
   "execution_count": 4,
   "metadata": {},
   "outputs": [],
   "source": [
    "input_size = 784\n",
    "output_size = 10\n",
    "M = train_data.shape[0]\n",
    "learning_rate = 0.001\n",
    "n_epochs = 100"
   ]
  },
  {
   "cell_type": "markdown",
   "metadata": {},
   "source": [
    "# Bayesian MLP"
   ]
  },
  {
   "cell_type": "code",
   "execution_count": 5,
   "metadata": {},
   "outputs": [],
   "source": [
    "train_target_oh = np.float32(preprocessing.OneHotEncoder(sparse=False).fit_transform(train_target))\n",
    "\n",
    "sigma_prior = float(np.exp(-3))\n",
    "n_samples = 3\n",
    "\n",
    "net = BayesMLP(input_size, output_size, sigma_prior)\n",
    "net.cuda()\n",
    "\n",
    "log_pw, log_qw, log_likelihood = 0., 0., 0.\n",
    "batch_size = 100\n",
    "n_batches = M / float(batch_size)\n",
    "optimizer = torch.optim.Adam(net.parameters(), lr=learning_rate)\n",
    "\n",
    "n_train_batches = int(train_data.shape[0] / float(batch_size))"
   ]
  },
  {
   "cell_type": "code",
   "execution_count": 6,
   "metadata": {},
   "outputs": [],
   "source": [
    "def forward_pass_samples(X, y):\n",
    "    s_log_pw, s_log_qw, s_log_likelihood = 0., 0., 0.\n",
    "    for _ in xrange(n_samples):\n",
    "        output = net(X)\n",
    "        sample_log_pw, sample_log_qw = net.get_lpw_lqw()\n",
    "        sample_log_likelihood = log_gaussian(y, output, sigma_prior).sum()\n",
    "        s_log_pw += sample_log_pw\n",
    "        s_log_qw += sample_log_qw\n",
    "        s_log_likelihood += sample_log_likelihood\n",
    "    return s_log_pw/n_samples, s_log_qw/n_samples, s_log_likelihood/n_samples"
   ]
  },
  {
   "cell_type": "code",
   "execution_count": null,
   "metadata": {},
   "outputs": [
    {
     "name": "stdout",
     "output_type": "stream",
     "text": [
      "Epoch: 0 TrainLoss: 94.87837 TestAcc: 0.594\n",
      "Epoch: 1 TrainLoss: 20.877987 TestAcc: 0.88\n"
     ]
    }
   ],
   "source": [
    "for ne in range(n_epochs):\n",
    "    \n",
    "    trainlosses = []\n",
    "    for b in range(n_train_batches):\n",
    "        \n",
    "        X = Variable(torch.Tensor(train_data[b * batch_size: (b+1) * batch_size])).cuda()\n",
    "        y = Variable(torch.Tensor(train_target_oh[b * batch_size: (b+1) * batch_size])).cuda()\n",
    "        \n",
    "        net.zero_grad()\n",
    "        log_pw, log_qw, log_llh = forward_pass_samples(X, y)\n",
    "        loss = bayes_loss_function(log_pw, log_qw, log_llh, n_batches, batch_size)\n",
    "        trainlosses.append(loss.data.cpu().numpy())\n",
    "        loss.backward()\n",
    "        optimizer.step()\n",
    "\n",
    "    X = Variable(torch.Tensor(test_data).cuda(), volatile=True)\n",
    "    pred = net(X, infer=True)\n",
    "    _, out = torch.max(pred, 1)\n",
    "    acc = np.count_nonzero(np.squeeze(out.data.cpu().numpy()) == \n",
    "                           np.int32(test_target.ravel())) / float(test_data.shape[0])\n",
    "\n",
    "    print 'Epoch:', ne, 'TrainLoss:', np.mean(trainlosses), 'TestAcc:', acc"
   ]
  },
  {
   "cell_type": "code",
   "execution_count": null,
   "metadata": {},
   "outputs": [],
   "source": [
    "torch.save(net, 'bayesmlp')"
   ]
  },
  {
   "cell_type": "markdown",
   "metadata": {},
   "source": [
    "# DropOut MLP"
   ]
  },
  {
   "cell_type": "code",
   "execution_count": null,
   "metadata": {},
   "outputs": [],
   "source": [
    "droput_p = 0.2\n",
    "\n",
    "net = MLP(input_size, output_size, droput_p)\n",
    "net.cuda()\n",
    "\n",
    "batch_size = 100\n",
    "n_batches = M / float(batch_size)\n",
    "optimizer = torch.optim.Adam(net.parameters(), lr=learning_rate)\n",
    "\n",
    "n_train_batches = int(train_data.shape[0] / float(batch_size))"
   ]
  },
  {
   "cell_type": "code",
   "execution_count": null,
   "metadata": {},
   "outputs": [],
   "source": [
    "for ne in range(n_epochs):\n",
    "    trainlosses = []\n",
    "    for b in range(n_train_batches):\n",
    "        \n",
    "        X = Variable(torch.Tensor(train_data[b * batch_size: (b+1) * batch_size])).cuda()\n",
    "        y = Variable(torch.LongTensor(train_target[b * batch_size: (b+1) * batch_size]).squeeze(1)).cuda()\n",
    "        \n",
    "        net.zero_grad()\n",
    "        output = net(X)\n",
    "        loss = nn.CrossEntropyLoss()(output,y)\n",
    "        trainlosses.append(loss.data.cpu().numpy())\n",
    "        loss.backward()\n",
    "        optimizer.step()\n",
    "    \n",
    "    net.train(False)\n",
    "    tX = Variable(torch.Tensor(test_data).cuda(), volatile=True)\n",
    "    pred = net(tX)\n",
    "    _, out = torch.max(pred, 1)\n",
    "    acc = np.count_nonzero(np.squeeze(out.data.cpu().numpy()) == \n",
    "                           np.int32(test_target.ravel())) / float(test_data.shape[0])\n",
    "    net.train(True)\n",
    "    print 'Epoch:', ne, 'TrainLoss:', np.mean(trainlosses), 'TestAcc:', acc"
   ]
  },
  {
   "cell_type": "code",
   "execution_count": null,
   "metadata": {},
   "outputs": [],
   "source": [
    "torch.save(net, 'plainmlp')"
   ]
  },
  {
   "cell_type": "code",
   "execution_count": null,
   "metadata": {},
   "outputs": [],
   "source": []
  }
 ],
 "metadata": {
  "kernelspec": {
   "display_name": "Python [conda env:pytorch_p27]",
   "language": "python",
   "name": "conda-env-pytorch_p27-py"
  },
  "language_info": {
   "codemirror_mode": {
    "name": "ipython",
    "version": 2
   },
   "file_extension": ".py",
   "mimetype": "text/x-python",
   "name": "python",
   "nbconvert_exporter": "python",
   "pygments_lexer": "ipython2",
   "version": "2.7.14"
  }
 },
 "nbformat": 4,
 "nbformat_minor": 2
}
